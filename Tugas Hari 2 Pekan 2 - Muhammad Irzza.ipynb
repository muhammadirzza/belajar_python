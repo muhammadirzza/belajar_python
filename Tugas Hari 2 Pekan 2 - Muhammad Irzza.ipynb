{
 "cells": [
  {
   "cell_type": "code",
   "execution_count": 0,
   "metadata": {
    "colab": {},
    "colab_type": "code",
    "id": "GyakVoXhBGrv",
    "outputId": "39b8ca38-73c2-4f96-a16b-9898575919b9"
   },
   "outputs": [
    {
     "data": {
      "text/html": [
       "<div>\n",
       "<style scoped>\n",
       "    .dataframe tbody tr th:only-of-type {\n",
       "        vertical-align: middle;\n",
       "    }\n",
       "\n",
       "    .dataframe tbody tr th {\n",
       "        vertical-align: top;\n",
       "    }\n",
       "\n",
       "    .dataframe thead th {\n",
       "        text-align: right;\n",
       "    }\n",
       "</style>\n",
       "<table border=\"1\" class=\"dataframe\">\n",
       "  <thead>\n",
       "    <tr style=\"text-align: right;\">\n",
       "      <th></th>\n",
       "      <th>siswa_id</th>\n",
       "      <th>pelajaran</th>\n",
       "      <th>nilai</th>\n",
       "      <th>jenis-kelamin</th>\n",
       "      <th>kelas</th>\n",
       "    </tr>\n",
       "  </thead>\n",
       "  <tbody>\n",
       "    <tr>\n",
       "      <th>0</th>\n",
       "      <td>1</td>\n",
       "      <td>Fisika</td>\n",
       "      <td>9</td>\n",
       "      <td>laki-laki</td>\n",
       "      <td>12A</td>\n",
       "    </tr>\n",
       "    <tr>\n",
       "      <th>1</th>\n",
       "      <td>2</td>\n",
       "      <td>Ekonomi</td>\n",
       "      <td>54</td>\n",
       "      <td>laki-laki</td>\n",
       "      <td>12C</td>\n",
       "    </tr>\n",
       "    <tr>\n",
       "      <th>2</th>\n",
       "      <td>3</td>\n",
       "      <td>Fisika</td>\n",
       "      <td>91</td>\n",
       "      <td>perempuan</td>\n",
       "      <td>12B</td>\n",
       "    </tr>\n",
       "    <tr>\n",
       "      <th>3</th>\n",
       "      <td>4</td>\n",
       "      <td>Biologi</td>\n",
       "      <td>49</td>\n",
       "      <td>perempuan</td>\n",
       "      <td>12B</td>\n",
       "    </tr>\n",
       "    <tr>\n",
       "      <th>4</th>\n",
       "      <td>5</td>\n",
       "      <td>Matematika</td>\n",
       "      <td>29</td>\n",
       "      <td>laki-laki</td>\n",
       "      <td>12B</td>\n",
       "    </tr>\n",
       "  </tbody>\n",
       "</table>\n",
       "</div>"
      ],
      "text/plain": [
       "   siswa_id   pelajaran  nilai jenis-kelamin kelas\n",
       "0         1      Fisika      9     laki-laki   12A\n",
       "1         2     Ekonomi     54     laki-laki   12C\n",
       "2         3      Fisika     91     perempuan   12B\n",
       "3         4     Biologi     49     perempuan   12B\n",
       "4         5  Matematika     29     laki-laki   12B"
      ]
     },
     "execution_count": 1,
     "metadata": {
      "tags": []
     },
     "output_type": "execute_result"
    }
   ],
   "source": [
    "# Persiapan membuat data\n",
    "import pandas as pd\n",
    "import random\n",
    "\n",
    "pelajaran = ['Matematika', 'Fisika', 'Biologi', 'Kimia', 'Geologi', 'Ekonomi']\n",
    "kelas = ['12A', '12B', '12C', '12D']\n",
    "\n",
    "hasil_nilai = {\n",
    "    'siswa_id' : range(1, 21),\n",
    "    'pelajaran' : [random.choice(pelajaran) for i in range(20)],\n",
    "    'nilai' : [random.choice(range(0, 100)) for i in range(20)],\n",
    "    'jenis-kelamin' : [random.choice(['laki-laki', 'perempuan']) for i in range(20)],\n",
    "    'kelas' : [random.choice(kelas) for i in range(20)]\n",
    "}\n",
    "\n",
    "df = pd.DataFrame(hasil_nilai)\n",
    "df.head()"
   ]
  },
  {
   "cell_type": "markdown",
   "metadata": {
    "colab_type": "text",
    "id": "aNoScqypBGr5"
   },
   "source": [
    "<h2>Soal 1: Indexing</h2>\n",
    "\n",
    "1. Lakukan indexing terhadap dataframe untuk mengakses column nilai dan kelas saja\n",
    "2. Lakukan indexing terhadap dataframe untuk mengakses row 5 sampai 10 beserta column pelajaran dan nilai"
   ]
  },
  {
   "cell_type": "code",
   "execution_count": 32,
   "metadata": {
    "colab": {},
    "colab_type": "code",
    "id": "rKmgvnS2BGr6"
   },
   "outputs": [
    {
     "name": "stdout",
     "output_type": "stream",
     "text": [
      "    nilai kelas\n",
      "1       5   12C\n",
      "2      36   12C\n",
      "3      71   12D\n",
      "4      65   12A\n",
      "5      81   12B\n",
      "6      25   12A\n",
      "7      56   12C\n",
      "8       0   12B\n",
      "9       8   12A\n",
      "10     31   12C\n",
      "11     32   12A\n",
      "12     24   12C\n",
      "13     78   12A\n",
      "14     70   12B\n",
      "15     62   12B\n",
      "16     62   12B\n",
      "17     78   12C\n",
      "18     27   12B\n",
      "19     18   12D\n",
      "20     81   12B\n",
      "    nilai kelas\n",
      "5      81   12B\n",
      "6      25   12A\n",
      "7      56   12C\n",
      "8       0   12B\n",
      "9       8   12A\n",
      "10     31   12C\n"
     ]
    }
   ],
   "source": [
    "# code here\n",
    "import pandas as pd\n",
    "import random\n",
    "\n",
    "pelajaran = ['Matematika', 'Fisika', 'Biologi', 'Kimia', 'Geologi', 'Ekonomi']\n",
    "kelas = ['12A', '12B', '12C', '12D']\n",
    "\n",
    "hasil_nilai = {\n",
    "    'siswa_id' : range(1, 21),\n",
    "    'pelajaran' : [random.choice(pelajaran) for i in range(20)],\n",
    "    'nilai' : [random.choice(range(0, 100)) for i in range(20)],\n",
    "    'jenis-kelamin' : [random.choice(['laki-laki', 'perempuan']) for i in range(20)],\n",
    "    'kelas' : [random.choice(kelas) for i in range(20)]\n",
    "}\n",
    "\n",
    "df = pd.DataFrame(hasil_nilai,index=range(1,21), columns=['nilai', 'kelas'])\n",
    "\n",
    "# indexing terhadap dataframe untuk mengakses column nilai dan kelas saja\n",
    "print(df)\n",
    "\n",
    "# indexing terhadap dataframe untuk mengakses row 5 sampai 10 beserta column pelajaran dan nilai\n",
    "print(df[4:10])\n",
    "\n",
    "\n"
   ]
  },
  {
   "cell_type": "markdown",
   "metadata": {
    "colab_type": "text",
    "id": "F55zUl5GBGr_"
   },
   "source": [
    "<h2>Soal 2: Filter DataFrame Dengan Boolean</h2>\n",
    "\n",
    "1. Tampilkan semua data siswa pada mata pelajaran Ekonomi dan Fisika\n",
    "2. Tampilkan semua data siswa yang mempunyai nilai lebih dari 50 di mata pelajaran Kimia \n",
    "3. Tampilkan semua data yang mempunyai nilai lebih dari 70, berjnis kelamin perempuan dan di kelas 12C"
   ]
  },
  {
   "cell_type": "code",
   "execution_count": 54,
   "metadata": {
    "colab": {},
    "colab_type": "code",
    "id": "eB5oSf_KBGsA"
   },
   "outputs": [
    {
     "name": "stdout",
     "output_type": "stream",
     "text": [
      "   siswa_id pelajaran  nilai jeniskelamin kelas\n",
      "4         5   Ekonomi     41    laki-laki   12C\n",
      "5         6    Fisika     86    laki-laki   12D\n",
      "8         9    Fisika     39    perempuan   12C\n",
      "9        10    Fisika     21    perempuan   12D\n",
      "    siswa_id pelajaran  nilai jeniskelamin kelas\n",
      "10        11     Kimia     88    laki-laki   12B\n",
      "11        12     Kimia     66    laki-laki   12D\n",
      "16        17     Kimia     85    laki-laki   12C\n",
      "    siswa_id pelajaran  nilai jeniskelamin kelas\n",
      "14        15   Biologi     83    perempuan   12C\n"
     ]
    }
   ],
   "source": [
    "# code here\n",
    "import pandas as pd\n",
    "import random\n",
    "\n",
    "pelajaran = ['Matematika', 'Fisika', 'Biologi', 'Kimia', 'Geologi', 'Ekonomi']\n",
    "kelas = ['12A', '12B', '12C', '12D']\n",
    "\n",
    "hasil_nilai = {\n",
    "    'siswa_id' : range(1, 21),\n",
    "    'pelajaran' : [random.choice(pelajaran) for i in range(20)],\n",
    "    'nilai' : [random.choice(range(0, 100)) for i in range(20)],\n",
    "    'jeniskelamin' : [random.choice(['laki-laki', 'perempuan']) for i in range(20)],\n",
    "    'kelas' : [random.choice(kelas) for i in range(20)]\n",
    "}\n",
    "\n",
    "df = pd.DataFrame(hasil_nilai)\n",
    "\n",
    "ekonomi = df.pelajaran == 'Ekonomi'\n",
    "fisika = df.pelajaran == 'Fisika'\n",
    "\n",
    "kimia = df.pelajaran == 'Kimia'\n",
    "nilaikimia = df.nilai > 50\n",
    "\n",
    "nilai70 = df.nilai > 70\n",
    "perempuan = df.jeniskelamin == 'perempuan'\n",
    "kelas12c = df.kelas == '12C'\n",
    "\n",
    "# semua data siswa pada mata pelajaran Ekonomi dan Fisika\n",
    "print(df[(ekonomi) | (fisika)])\n",
    "# semua data siswa yang mempunyai nilai lebih dari 50 di mata pelajaran Kimia\n",
    "print(df[(kimia) & (nilaikimia)])\n",
    "# semua data yang mempunyai nilai lebih dari 70, berjnis kelamin perempuan dan di kelas 12C\n",
    "print(df[(nilai70) & (perempuan) & (kelas12c)])\n",
    "\n",
    "\n",
    "\n",
    "\n"
   ]
  },
  {
   "cell_type": "markdown",
   "metadata": {
    "colab_type": "text",
    "id": "6Od6R3H1BGsE"
   },
   "source": [
    "<h2>Soal 3: Data Transformation</h2>\n",
    "\n",
    "lakukan data transformasi terhadap column 'nilai' dengan fungsi transformasi, berikut rumus dari normalisasi\n",
    "\n",
    "![alt text](https://drive.google.com/uc?id=1wed-EbRSTA0JP1ceDp6lcKBqH2yJ4aa3)"
   ]
  },
  {
   "cell_type": "code",
   "execution_count": 58,
   "metadata": {
    "colab": {},
    "colab_type": "code",
    "id": "qeV_iH8nBGsF"
   },
   "outputs": [
    {
     "name": "stdout",
     "output_type": "stream",
     "text": [
      "0     21\n",
      "1     30\n",
      "2     13\n",
      "3     81\n",
      "4     82\n",
      "5     42\n",
      "6     43\n",
      "7     62\n",
      "8     22\n",
      "9     21\n",
      "10    55\n",
      "11    15\n",
      "12    74\n",
      "13    81\n",
      "14    60\n",
      "15    73\n",
      "16    37\n",
      "17    45\n",
      "18    40\n",
      "19    42\n",
      "Name: nilai, dtype: int64\n",
      "       nilai\n",
      "0   0.115942\n",
      "1   0.246377\n",
      "2   0.000000\n",
      "3   0.985507\n",
      "4   1.000000\n",
      "5   0.420290\n",
      "6   0.434783\n",
      "7   0.710145\n",
      "8   0.130435\n",
      "9   0.115942\n",
      "10  0.608696\n",
      "11  0.028986\n",
      "12  0.884058\n",
      "13  0.985507\n",
      "14  0.681159\n",
      "15  0.869565\n",
      "16  0.347826\n",
      "17  0.463768\n",
      "18  0.391304\n",
      "19  0.420290\n"
     ]
    }
   ],
   "source": [
    "# code here\n",
    "import pandas as pd\n",
    "import random\n",
    "\n",
    "pelajaran = ['Matematika', 'Fisika', 'Biologi', 'Kimia', 'Geologi', 'Ekonomi']\n",
    "kelas = ['12A', '12B', '12C', '12D']\n",
    "\n",
    "hasil_nilai = {\n",
    "    'siswa_id' : range(1, 21),\n",
    "    'pelajaran' : [random.choice(pelajaran) for i in range(20)],\n",
    "    'nilai' : [random.choice(range(0, 100)) for i in range(20)],\n",
    "    'jenis-kelamin' : [random.choice(['laki-laki', 'perempuan']) for i in range(20)],\n",
    "    'kelas' : [random.choice(kelas) for i in range(20)]\n",
    "}\n",
    "\n",
    "df = pd.DataFrame(hasil_nilai)\n",
    "\n",
    "def normalize(x):\n",
    "    return ( x - x.min() ) / ( x.max() - x.min() )\n",
    "\n",
    "print(df.nilai)\n",
    "\n",
    "print(df[['nilai']].apply(normalize))"
   ]
  },
  {
   "cell_type": "code",
   "execution_count": null,
   "metadata": {},
   "outputs": [],
   "source": []
  }
 ],
 "metadata": {
  "colab": {
   "name": "Tugas Hari 2 Pekan 2.ipynb",
   "provenance": []
  },
  "kernelspec": {
   "display_name": "Python 3",
   "language": "python",
   "name": "python3"
  },
  "language_info": {
   "codemirror_mode": {
    "name": "ipython",
    "version": 3
   },
   "file_extension": ".py",
   "mimetype": "text/x-python",
   "name": "python",
   "nbconvert_exporter": "python",
   "pygments_lexer": "ipython3",
   "version": "3.8.6"
  }
 },
 "nbformat": 4,
 "nbformat_minor": 1
}
